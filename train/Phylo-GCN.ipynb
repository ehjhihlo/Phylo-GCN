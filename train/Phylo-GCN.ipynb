{
  "cells": [
    {
      "cell_type": "code",
      "execution_count": 1,
      "metadata": {
        "colab": {
          "base_uri": "https://localhost:8080/"
        },
        "id": "TU4NbEG_ccYe",
        "outputId": "08a39815-5600-4e27-a217-60f4c34aadc3"
      },
      "outputs": [
        {
          "name": "stdout",
          "output_type": "stream",
          "text": [
            "Tue Mar 22 01:24:34 2022       \n",
            "+-----------------------------------------------------------------------------+\n",
            "| NVIDIA-SMI 460.32.03    Driver Version: 460.32.03    CUDA Version: 11.2     |\n",
            "|-------------------------------+----------------------+----------------------+\n",
            "| GPU  Name        Persistence-M| Bus-Id        Disp.A | Volatile Uncorr. ECC |\n",
            "| Fan  Temp  Perf  Pwr:Usage/Cap|         Memory-Usage | GPU-Util  Compute M. |\n",
            "|                               |                      |               MIG M. |\n",
            "|===============================+======================+======================|\n",
            "|   0  Tesla K80           Off  | 00000000:00:04.0 Off |                    0 |\n",
            "| N/A   66C    P8    31W / 149W |      0MiB / 11441MiB |      0%      Default |\n",
            "|                               |                      |                  N/A |\n",
            "+-------------------------------+----------------------+----------------------+\n",
            "                                                                               \n",
            "+-----------------------------------------------------------------------------+\n",
            "| Processes:                                                                  |\n",
            "|  GPU   GI   CI        PID   Type   Process name                  GPU Memory |\n",
            "|        ID   ID                                                   Usage      |\n",
            "|=============================================================================|\n",
            "|  No running processes found                                                 |\n",
            "+-----------------------------------------------------------------------------+\n"
          ]
        }
      ],
      "source": [
        "!nvidia-smi"
      ]
    },
    {
      "cell_type": "code",
      "execution_count": 2,
      "metadata": {
        "id": "AG2l4B6gft5-"
      },
      "outputs": [],
      "source": [
        "import csv\n",
        "import numpy as np\n",
        "import pandas as pd\n",
        "import matplotlib.pyplot as plt\n",
        "import math\n",
        "from sklearn import datasets\n",
        "from sklearn.model_selection import train_test_split\n",
        "from sklearn import metrics\n",
        "from sklearn.metrics import confusion_matrix, precision_score, recall_score, roc_auc_score, f1_score, roc_curve, auc\n",
        "import seaborn as sns\n",
        "import os\n",
        "import keras as K\n",
        "from keras.models import Model\n",
        "from keras.layers import Flatten, Dense, Input, Conv2D, BatchNormalization, Activation\n",
        "import tensorflow as tf\n",
        "from tensorflow.keras import datasets, layers, models"
      ]
    },
    {
      "cell_type": "code",
      "execution_count": 3,
      "metadata": {
        "colab": {
          "base_uri": "https://localhost:8080/"
        },
        "id": "C2J8QNuFTKUt",
        "outputId": "ff5fee2a-97db-4202-bd00-81049dcc4848"
      },
      "outputs": [
        {
          "name": "stdout",
          "output_type": "stream",
          "text": [
            "Downloading...\n",
            "From: https://drive.google.com/uc?id=1eZai1_DE_zoJPLWicrlmcJTj0h0phpSu\n",
            "To: /content/data.zip\n",
            "\r  0% 0.00/20.7M [00:00<?, ?B/s]\r 84% 17.3M/20.7M [00:00<00:00, 171MB/s]\r100% 20.7M/20.7M [00:00<00:00, 188MB/s]\n"
          ]
        }
      ],
      "source": [
        "# !gdown --id 1t6YeP6-XrUPXSiqys1isH1yJzyRbYB64 --output \"data.zip\" # 1137 taxa\n",
        "# !gdown --id 1HR7rPqEzgqKn3VniniHTEAAec9NaD8n9 --output \"data.zip\" # distance\n",
        "# !gdown --id 1-zNZrjPTm_pLy4WEU0bHqnfGnxSjvje4 --output \"data.zip\" # without log\n",
        "# !gdown --id 1ychy70kl48AYx9Sm2B7LsVcCaL2km_-H --output \"data.zip\" # 496 taxa\n",
        "# !gdown --id 1I2ZPnTWqenR6aeTv6w-w-fObqmvlfOg_ --output \"data.zip\" # 496 taxa, distance normalized total sum\n",
        "# !gdown --id 1krwdMH7ZsbIubfANeiXacy1irQE9Nixo --output \"data.zip\" # 496 taxa, distance normalized maximum sum\n",
        "!gdown --id 1eZai1_DE_zoJPLWicrlmcJTj0h0phpSu --output \"data.zip\" # 1137 taxa, distance normalized maximum sum\n",
        "\n",
        "!unzip -q \"data.zip\""
      ]
    },
    {
      "cell_type": "code",
      "execution_count": 4,
      "metadata": {
        "colab": {
          "base_uri": "https://localhost:8080/",
          "height": 206
        },
        "id": "J4QbiCfTkUfk",
        "outputId": "29b93973-0b21-4fdf-d96e-2a8aac1d0fab"
      },
      "outputs": [
        {
          "data": {
            "text/html": [
              "\n",
              "  <div id=\"df-d4a4475d-c87a-433a-8a1c-21b9ecf91352\">\n",
              "    <div class=\"colab-df-container\">\n",
              "      <div>\n",
              "<style scoped>\n",
              "    .dataframe tbody tr th:only-of-type {\n",
              "        vertical-align: middle;\n",
              "    }\n",
              "\n",
              "    .dataframe tbody tr th {\n",
              "        vertical-align: top;\n",
              "    }\n",
              "\n",
              "    .dataframe thead th {\n",
              "        text-align: right;\n",
              "    }\n",
              "</style>\n",
              "<table border=\"1\" class=\"dataframe\">\n",
              "  <thead>\n",
              "    <tr style=\"text-align: right;\">\n",
              "      <th></th>\n",
              "      <th>Filename</th>\n",
              "      <th>Index</th>\n",
              "      <th>Diagnosis</th>\n",
              "    </tr>\n",
              "  </thead>\n",
              "  <tbody>\n",
              "    <tr>\n",
              "      <th>0</th>\n",
              "      <td>laplacian_matrix_1_species_new.csv</td>\n",
              "      <td>SRR7142497</td>\n",
              "      <td>1</td>\n",
              "    </tr>\n",
              "    <tr>\n",
              "      <th>1</th>\n",
              "      <td>laplacian_matrix_2_species_new.csv</td>\n",
              "      <td>SRR7142491</td>\n",
              "      <td>0</td>\n",
              "    </tr>\n",
              "    <tr>\n",
              "      <th>2</th>\n",
              "      <td>laplacian_matrix_3_species_new.csv</td>\n",
              "      <td>SRR7142505</td>\n",
              "      <td>1</td>\n",
              "    </tr>\n",
              "    <tr>\n",
              "      <th>3</th>\n",
              "      <td>laplacian_matrix_4_species_new.csv</td>\n",
              "      <td>SRR7142475</td>\n",
              "      <td>0</td>\n",
              "    </tr>\n",
              "    <tr>\n",
              "      <th>4</th>\n",
              "      <td>laplacian_matrix_5_species_new.csv</td>\n",
              "      <td>SRR7142509</td>\n",
              "      <td>0</td>\n",
              "    </tr>\n",
              "  </tbody>\n",
              "</table>\n",
              "</div>\n",
              "      <button class=\"colab-df-convert\" onclick=\"convertToInteractive('df-d4a4475d-c87a-433a-8a1c-21b9ecf91352')\"\n",
              "              title=\"Convert this dataframe to an interactive table.\"\n",
              "              style=\"display:none;\">\n",
              "        \n",
              "  <svg xmlns=\"http://www.w3.org/2000/svg\" height=\"24px\"viewBox=\"0 0 24 24\"\n",
              "       width=\"24px\">\n",
              "    <path d=\"M0 0h24v24H0V0z\" fill=\"none\"/>\n",
              "    <path d=\"M18.56 5.44l.94 2.06.94-2.06 2.06-.94-2.06-.94-.94-2.06-.94 2.06-2.06.94zm-11 1L8.5 8.5l.94-2.06 2.06-.94-2.06-.94L8.5 2.5l-.94 2.06-2.06.94zm10 10l.94 2.06.94-2.06 2.06-.94-2.06-.94-.94-2.06-.94 2.06-2.06.94z\"/><path d=\"M17.41 7.96l-1.37-1.37c-.4-.4-.92-.59-1.43-.59-.52 0-1.04.2-1.43.59L10.3 9.45l-7.72 7.72c-.78.78-.78 2.05 0 2.83L4 21.41c.39.39.9.59 1.41.59.51 0 1.02-.2 1.41-.59l7.78-7.78 2.81-2.81c.8-.78.8-2.07 0-2.86zM5.41 20L4 18.59l7.72-7.72 1.47 1.35L5.41 20z\"/>\n",
              "  </svg>\n",
              "      </button>\n",
              "      \n",
              "  <style>\n",
              "    .colab-df-container {\n",
              "      display:flex;\n",
              "      flex-wrap:wrap;\n",
              "      gap: 12px;\n",
              "    }\n",
              "\n",
              "    .colab-df-convert {\n",
              "      background-color: #E8F0FE;\n",
              "      border: none;\n",
              "      border-radius: 50%;\n",
              "      cursor: pointer;\n",
              "      display: none;\n",
              "      fill: #1967D2;\n",
              "      height: 32px;\n",
              "      padding: 0 0 0 0;\n",
              "      width: 32px;\n",
              "    }\n",
              "\n",
              "    .colab-df-convert:hover {\n",
              "      background-color: #E2EBFA;\n",
              "      box-shadow: 0px 1px 2px rgba(60, 64, 67, 0.3), 0px 1px 3px 1px rgba(60, 64, 67, 0.15);\n",
              "      fill: #174EA6;\n",
              "    }\n",
              "\n",
              "    [theme=dark] .colab-df-convert {\n",
              "      background-color: #3B4455;\n",
              "      fill: #D2E3FC;\n",
              "    }\n",
              "\n",
              "    [theme=dark] .colab-df-convert:hover {\n",
              "      background-color: #434B5C;\n",
              "      box-shadow: 0px 1px 3px 1px rgba(0, 0, 0, 0.15);\n",
              "      filter: drop-shadow(0px 1px 2px rgba(0, 0, 0, 0.3));\n",
              "      fill: #FFFFFF;\n",
              "    }\n",
              "  </style>\n",
              "\n",
              "      <script>\n",
              "        const buttonEl =\n",
              "          document.querySelector('#df-d4a4475d-c87a-433a-8a1c-21b9ecf91352 button.colab-df-convert');\n",
              "        buttonEl.style.display =\n",
              "          google.colab.kernel.accessAllowed ? 'block' : 'none';\n",
              "\n",
              "        async function convertToInteractive(key) {\n",
              "          const element = document.querySelector('#df-d4a4475d-c87a-433a-8a1c-21b9ecf91352');\n",
              "          const dataTable =\n",
              "            await google.colab.kernel.invokeFunction('convertToInteractive',\n",
              "                                                     [key], {});\n",
              "          if (!dataTable) return;\n",
              "\n",
              "          const docLinkHtml = 'Like what you see? Visit the ' +\n",
              "            '<a target=\"_blank\" href=https://colab.research.google.com/notebooks/data_table.ipynb>data table notebook</a>'\n",
              "            + ' to learn more about interactive tables.';\n",
              "          element.innerHTML = '';\n",
              "          dataTable['output_type'] = 'display_data';\n",
              "          await google.colab.output.renderOutput(dataTable, element);\n",
              "          const docLink = document.createElement('div');\n",
              "          docLink.innerHTML = docLinkHtml;\n",
              "          element.appendChild(docLink);\n",
              "        }\n",
              "      </script>\n",
              "    </div>\n",
              "  </div>\n",
              "  "
            ],
            "text/plain": [
              "                             Filename       Index  Diagnosis\n",
              "0  laplacian_matrix_1_species_new.csv  SRR7142497          1\n",
              "1  laplacian_matrix_2_species_new.csv  SRR7142491          0\n",
              "2  laplacian_matrix_3_species_new.csv  SRR7142505          1\n",
              "3  laplacian_matrix_4_species_new.csv  SRR7142475          0\n",
              "4  laplacian_matrix_5_species_new.csv  SRR7142509          0"
            ]
          },
          "execution_count": 4,
          "metadata": {},
          "output_type": "execute_result"
        }
      ],
      "source": [
        "train = pd.read_csv('label/label.csv')\n",
        "train.head()"
      ]
    },
    {
      "cell_type": "code",
      "execution_count": 5,
      "metadata": {
        "id": "ZTodgTb3n8aI"
      },
      "outputs": [],
      "source": [
        "filename = train['Filename']\n",
        "filename_list = [os.path.join('matrix/',i) for i in filename] \n",
        "label = train['Diagnosis']\n",
        "# label_list = []\n",
        "# for i in range(len(label)):\n",
        "#     label_list.append(label[i])\n",
        "# print(filename_list)\n",
        "# print(label_list)\n",
        "label = np.array(label, dtype=np.float32)"
      ]
    },
    {
      "cell_type": "code",
      "execution_count": 7,
      "metadata": {
        "id": "FAiJGBMItE1W"
      },
      "outputs": [],
      "source": [
        "matrix_list = []\n",
        "for index in range(443):\n",
        "    matrix = []\n",
        "    with open('matrix/laplacian_matrix_'+str(index+1)+'_species_new.csv','r') as f:\n",
        "        rows = csv.reader(f)\n",
        "        for row in rows:\n",
        "            matrix.append(row[:-1])\n",
        "        matrix = np.array(matrix, dtype=np.float32)\n",
        "        matrix_list.append(matrix)"
      ]
    },
    {
      "cell_type": "code",
      "execution_count": 8,
      "metadata": {
        "id": "la1q2VUha8Vz"
      },
      "outputs": [],
      "source": [
        "matrix_list = np.array(matrix_list)\n",
        "matrix_list = np.squeeze(matrix_list,axis=1)\n",
        "matrix_list = pd.DataFrame(matrix_list)"
      ]
    },
    {
      "cell_type": "code",
      "execution_count": 10,
      "metadata": {
        "colab": {
          "base_uri": "https://localhost:8080/"
        },
        "id": "7qB34MNpQ6Gp",
        "outputId": "907d1ffb-3a31-449f-e2fe-12db77e1e19a"
      },
      "outputs": [
        {
          "name": "stdout",
          "output_type": "stream",
          "text": [
            "(354, 1292769)\n",
            "(89, 1292769)\n",
            "(354, 1, 1137, 1137)\n",
            "(89, 1, 1137, 1137)\n"
          ]
        }
      ],
      "source": [
        "train_x, test_x, train_y, test_y = train_test_split(matrix_list,label,test_size=0.2,random_state=0)\n",
        "print(train_x.shape)\n",
        "print(test_x.shape)\n",
        "sample_list = list(test_x.index)\n",
        "train_x = train_x.values.reshape(354, 1, 1137, 1137)\n",
        "test_x = test_x.values.reshape(89, 1, 1137, 1137)\n",
        "\n",
        "print(train_x.shape)\n",
        "print(test_x.shape)"
      ]
    },
    {
      "cell_type": "code",
      "execution_count": 12,
      "metadata": {
        "id": "H7SH_eKeaxzd"
      },
      "outputs": [],
      "source": [
        "# 1137 taxa\n",
        "model = K.models.Sequential()\n",
        "model.add(K.layers.Conv2D(32, (1, 1), activation='relu', input_shape=train_x.shape[1:]))\n",
        "model.add(K.layers.BatchNormalization(axis=1, momentum=0.99, epsilon=1e-05, center=True, scale=True))\n",
        "model.add(K.layers.Conv2D(16, (1, 1), activation='relu', input_shape=train_x.shape[1:]))\n",
        "model.add(K.layers.BatchNormalization(axis=1, momentum=0.99, epsilon=1e-05, center=True, scale=True))\n",
        "model.add(K.layers.Flatten())\n",
        "model.add(K.layers.Dropout(0.4))\n",
        "model.add(K.layers.BatchNormalization(axis=1, momentum=0.99, epsilon=1e-05, center=True, scale=True))\n",
        "model.add(K.layers.Dense(12, activation= 'relu'))\n",
        "model.add(K.layers.Dropout(0.2))\n",
        "model.add(K.layers.BatchNormalization(axis=1, momentum=0.99, epsilon=1e-05, center=True, scale=True))\n",
        "model.add(K.layers.Dense(1,activation='sigmoid'))"
      ]
    },
    {
      "cell_type": "code",
      "execution_count": 16,
      "metadata": {
        "colab": {
          "base_uri": "https://localhost:8080/"
        },
        "id": "q5ypM2xUDB77",
        "outputId": "5e87bb84-7bbd-4c95-9046-ba83734b7b79"
      },
      "outputs": [
        {
          "name": "stdout",
          "output_type": "stream",
          "text": [
            "Model: \"sequential\"\n",
            "_________________________________________________________________\n",
            " Layer (type)                Output Shape              Param #   \n",
            "=================================================================\n",
            " conv2d (Conv2D)             (None, 1, 1137, 32)       36416     \n",
            "                                                                 \n",
            " batch_normalization (BatchN  (None, 1, 1137, 32)      4         \n",
            " ormalization)                                                   \n",
            "                                                                 \n",
            " conv2d_1 (Conv2D)           (None, 1, 1137, 16)       528       \n",
            "                                                                 \n",
            " batch_normalization_1 (Batc  (None, 1, 1137, 16)      4         \n",
            " hNormalization)                                                 \n",
            "                                                                 \n",
            " flatten (Flatten)           (None, 18192)             0         \n",
            "                                                                 \n",
            " dropout (Dropout)           (None, 18192)             0         \n",
            "                                                                 \n",
            " batch_normalization_2 (Batc  (None, 18192)            72768     \n",
            " hNormalization)                                                 \n",
            "                                                                 \n",
            " dense (Dense)               (None, 12)                218316    \n",
            "                                                                 \n",
            " dropout_1 (Dropout)         (None, 12)                0         \n",
            "                                                                 \n",
            " batch_normalization_3 (Batc  (None, 12)               48        \n",
            " hNormalization)                                                 \n",
            "                                                                 \n",
            " dense_1 (Dense)             (None, 1)                 13        \n",
            "                                                                 \n",
            "=================================================================\n",
            "Total params: 328,097\n",
            "Trainable params: 291,685\n",
            "Non-trainable params: 36,412\n",
            "_________________________________________________________________\n"
          ]
        }
      ],
      "source": [
        "model.summary()"
      ]
    },
    {
      "cell_type": "code",
      "execution_count": 17,
      "metadata": {
        "colab": {
          "base_uri": "https://localhost:8080/"
        },
        "id": "PIjycP9Q2SHi",
        "outputId": "21132496-a8f2-4f6a-d3d1-668303b8acd8"
      },
      "outputs": [
        {
          "name": "stdout",
          "output_type": "stream",
          "text": [
            "Epoch 1/50\n",
            "45/45 [==============================] - 16s 72ms/step - loss: 0.8731 - accuracy: 0.5028 - auc: 0.5252 - val_loss: 0.6628 - val_accuracy: 0.7303 - val_auc: 0.7436\n",
            "Epoch 2/50\n",
            "45/45 [==============================] - 2s 37ms/step - loss: 0.7051 - accuracy: 0.6073 - auc: 0.6542 - val_loss: 0.6133 - val_accuracy: 0.6854 - val_auc: 0.7171\n",
            "Epoch 3/50\n",
            "45/45 [==============================] - 2s 37ms/step - loss: 0.6064 - accuracy: 0.6864 - auc: 0.7538 - val_loss: 0.6493 - val_accuracy: 0.5843 - val_auc: 0.7385\n",
            "Epoch 4/50\n",
            "45/45 [==============================] - 2s 37ms/step - loss: 0.5706 - accuracy: 0.6921 - auc: 0.7806 - val_loss: 0.5717 - val_accuracy: 0.7303 - val_auc: 0.7345\n",
            "Epoch 5/50\n",
            "45/45 [==============================] - 2s 37ms/step - loss: 0.5531 - accuracy: 0.7345 - auc: 0.8064 - val_loss: 0.5895 - val_accuracy: 0.7079 - val_auc: 0.7463\n",
            "Epoch 6/50\n",
            "45/45 [==============================] - 2s 37ms/step - loss: 0.5089 - accuracy: 0.7655 - auc: 0.8297 - val_loss: 0.5725 - val_accuracy: 0.7528 - val_auc: 0.7668\n",
            "Epoch 7/50\n",
            "45/45 [==============================] - 2s 37ms/step - loss: 0.3983 - accuracy: 0.8220 - auc: 0.9066 - val_loss: 0.6057 - val_accuracy: 0.6742 - val_auc: 0.7770\n",
            "Epoch 8/50\n",
            "45/45 [==============================] - 2s 37ms/step - loss: 0.4352 - accuracy: 0.7740 - auc: 0.8834 - val_loss: 0.6087 - val_accuracy: 0.6742 - val_auc: 0.7602\n",
            "Epoch 9/50\n",
            "45/45 [==============================] - 2s 37ms/step - loss: 0.3564 - accuracy: 0.8418 - auc: 0.9247 - val_loss: 0.5676 - val_accuracy: 0.7978 - val_auc: 0.7869\n",
            "Epoch 10/50\n",
            "45/45 [==============================] - 2s 37ms/step - loss: 0.3481 - accuracy: 0.8588 - auc: 0.9289 - val_loss: 0.6070 - val_accuracy: 0.6854 - val_auc: 0.7872\n",
            "Epoch 11/50\n",
            "45/45 [==============================] - 2s 37ms/step - loss: 0.3193 - accuracy: 0.8588 - auc: 0.9415 - val_loss: 0.5748 - val_accuracy: 0.7303 - val_auc: 0.8051\n",
            "Epoch 12/50\n",
            "45/45 [==============================] - 2s 37ms/step - loss: 0.3119 - accuracy: 0.8701 - auc: 0.9433 - val_loss: 0.6594 - val_accuracy: 0.6517 - val_auc: 0.7920\n",
            "Epoch 13/50\n",
            "45/45 [==============================] - 2s 37ms/step - loss: 0.2772 - accuracy: 0.9040 - auc: 0.9576 - val_loss: 0.6275 - val_accuracy: 0.7865 - val_auc: 0.7840\n",
            "Epoch 14/50\n",
            "45/45 [==============================] - 2s 38ms/step - loss: 0.2541 - accuracy: 0.9068 - auc: 0.9639 - val_loss: 0.6165 - val_accuracy: 0.7303 - val_auc: 0.8061\n",
            "Epoch 15/50\n",
            "45/45 [==============================] - 2s 37ms/step - loss: 0.2631 - accuracy: 0.8983 - auc: 0.9620 - val_loss: 0.5719 - val_accuracy: 0.7640 - val_auc: 0.8233\n",
            "Epoch 16/50\n",
            "45/45 [==============================] - 2s 38ms/step - loss: 0.2675 - accuracy: 0.9153 - auc: 0.9581 - val_loss: 0.6225 - val_accuracy: 0.7079 - val_auc: 0.8019\n",
            "Epoch 17/50\n",
            "45/45 [==============================] - 2s 36ms/step - loss: 0.2201 - accuracy: 0.9379 - auc: 0.9744 - val_loss: 0.6671 - val_accuracy: 0.7191 - val_auc: 0.7901\n",
            "Epoch 18/50\n",
            "45/45 [==============================] - 2s 37ms/step - loss: 0.2316 - accuracy: 0.9209 - auc: 0.9728 - val_loss: 0.6466 - val_accuracy: 0.7191 - val_auc: 0.7989\n",
            "Epoch 19/50\n",
            "45/45 [==============================] - 2s 38ms/step - loss: 0.2425 - accuracy: 0.9181 - auc: 0.9647 - val_loss: 0.7006 - val_accuracy: 0.7079 - val_auc: 0.7981\n"
          ]
        }
      ],
      "source": [
        "callback = tf.keras.callbacks.EarlyStopping(monitor='val_accuracy', patience=10, restore_best_weights=True)\n",
        "opt = tf.keras.optimizers.Adam(learning_rate=0.0006)\n",
        "model.compile(optimizer=opt, loss='binary_crossentropy', metrics=['accuracy', 'AUC'])\n",
        "\n",
        "h2 = model.fit(train_x, train_y, epochs=50, batch_size=8, validation_data=(test_x, test_y), callbacks=[callback])"
      ]
    },
    {
      "cell_type": "code",
      "execution_count": 18,
      "metadata": {
        "colab": {
          "base_uri": "https://localhost:8080/",
          "height": 295
        },
        "id": "TfL1rQTHnAQN",
        "outputId": "ef99b9de-5871-432b-8de3-d155ee1efdd2"
      },
      "outputs": [
        {
          "data": {
            "image/png": "[encoded data removed]",
            "text/plain": [
              "<Figure size 432x288 with 1 Axes>"
            ]
          },
          "metadata": {
            "needs_background": "light"
          },
          "output_type": "display_data"
        }
      ],
      "source": [
        "# summarize history for accuracy\n",
        "plt.plot(h2.history['accuracy'])\n",
        "plt.plot(h2.history['val_accuracy'])\n",
        "plt.title('model accuracy')\n",
        "plt.ylabel('accuracy')\n",
        "plt.xlabel('epoch')\n",
        "plt.legend(['train', 'test'], loc='upper left')\n",
        "plt.show()"
      ]
    },
    {
      "cell_type": "code",
      "execution_count": 19,
      "metadata": {
        "colab": {
          "base_uri": "https://localhost:8080/",
          "height": 295
        },
        "id": "baz-S1esnAQN",
        "outputId": "b383cc66-8fcb-4543-f171-c22ab49725b8"
      },
      "outputs": [
        {
          "data": {
            "image/png": "[encoded data removed]",
            "text/plain": [
              "<Figure size 432x288 with 1 Axes>"
            ]
          },
          "metadata": {
            "needs_background": "light"
          },
          "output_type": "display_data"
        }
      ],
      "source": [
        "# summarize history for accuracy\n",
        "plt.plot(h2.history['loss'])\n",
        "plt.plot(h2.history['val_loss'])\n",
        "plt.title('model loss')\n",
        "plt.ylabel('loss')\n",
        "plt.xlabel('epoch')\n",
        "plt.legend(['train', 'test'], loc='upper left')\n",
        "plt.show()"
      ]
    },
    {
      "cell_type": "code",
      "execution_count": 20,
      "metadata": {
        "colab": {
          "base_uri": "https://localhost:8080/",
          "height": 296
        },
        "id": "xEGPl9cF0iLD",
        "outputId": "0eac7078-4939-4bdb-eddc-579b10c28c91"
      },
      "outputs": [
        {
          "data": {
            "text/plain": [
              "<matplotlib.legend.Legend at 0x7fa5ce5b0d50>"
            ]
          },
          "execution_count": 20,
          "metadata": {},
          "output_type": "execute_result"
        },
        {
          "data": {
            "image/png": "[encoded data removed]",
            "text/plain": [
              "<Figure size 432x288 with 1 Axes>"
            ]
          },
          "metadata": {
            "needs_background": "light"
          },
          "output_type": "display_data"
        }
      ],
      "source": [
        "y_pred = model.predict(test_x)\n",
        "# Plot auc curve\n",
        "fp, tp, _ = roc_curve(test_y, y_pred)\n",
        "roc_auc = auc(fp, tp)\n",
        "plt.plot(fp, tp, label='ROC curve (area = %0.4f)' % roc_auc, color='r')\n",
        "plt.xlabel('False Positive Rate')\n",
        "plt.ylabel('True Positive Rate')\n",
        "plt.plot([0, 1], [0, 1], color='b', linestyle='--')\n",
        "plt.legend(loc='lower right')"
      ]
    },
    {
      "cell_type": "code",
      "execution_count": 21,
      "metadata": {
        "colab": {
          "base_uri": "https://localhost:8080/",
          "height": 296
        },
        "id": "ZPBd1ggGm7yi",
        "outputId": "aa514f97-5c90-4e31-a0d1-1f2c0232c393"
      },
      "outputs": [
        {
          "data": {
            "text/plain": [
              "Text(91.68, 0.5, 'predicted label')"
            ]
          },
          "execution_count": 21,
          "metadata": {},
          "output_type": "execute_result"
        },
        {
          "data": {
            "image/png": "[encoded data removed]",
            "text/plain": [
              "<Figure size 432x288 with 1 Axes>"
            ]
          },
          "metadata": {
            "needs_background": "light"
          },
          "output_type": "display_data"
        }
      ],
      "source": [
        "for i in range(len(y_pred)):\n",
        "  if y_pred[i]<0.5:\n",
        "    y_pred[i] = 0\n",
        "  else:\n",
        "    y_pred[i] = 1\n",
        "\n",
        "# Confusion matrix\n",
        "mat = confusion_matrix(test_y, y_pred)\n",
        "sns.heatmap(mat.T, square=True, annot=True, fmt='d', cbar=False)\n",
        "plt.xlabel('true label')\n",
        "plt.ylabel('predicted label')"
      ]
    },
    {
      "cell_type": "code",
      "execution_count": 22,
      "metadata": {
        "colab": {
          "base_uri": "https://localhost:8080/"
        },
        "id": "UNcp0H050iLE",
        "outputId": "fe38895e-c272-4be9-e086-dd33d4cd8fe0"
      },
      "outputs": [
        {
          "name": "stdout",
          "output_type": "stream",
          "text": [
            "precision =  [0.83636364 0.73529412]\n",
            "recall =  [0.83636364 0.73529412]\n",
            "auc_roc =  0.7858288770053476\n",
            "f1_score =  0.7858288770053476\n",
            "Model Saved\n"
          ]
        }
      ],
      "source": [
        "score_recall = recall_score(test_y, y_pred, average=None)\n",
        "F1 = f1_score(test_y, y_pred, average=\"macro\")\n",
        "precision = precision_score(test_y, y_pred, average=None)\n",
        "auc_roc = roc_auc_score(test_y, y_pred)\n",
        "print(\"precision = \",precision)\n",
        "print(\"recall = \",score_recall)\n",
        "print(\"auc_roc = \",auc_roc)\n",
        "print(\"f1_score = \",F1)\n",
        "model.save('CRC_Phylo-GCN.h5')\n",
        "model.save_weights('CRC_Phylo-GCN.hdf5')\n",
        "print('Model Saved')\n",
        "with open('Phylo-GCN_result.csv','w') as f:\n",
        "    f.write('Precision_Normal,Precision_Cancer,Recall_Normal,Recall_Cancer,Auc_Score,F1_Score,')\n",
        "    f.write('\\n')\n",
        "    f.write(str(precision[0])+','+str(precision[1])+','+str(score_recall[0])+','+str(score_recall[1])+','+str(auc_roc)+','+str(F1))"
      ]
    },
    {
      "cell_type": "code",
      "execution_count": 23,
      "metadata": {
        "id": "wWiZ8LmIYiWR"
      },
      "outputs": [],
      "source": [
        "with open('Phylo-GCN_prediction.csv', 'w') as f:\n",
        "        writer = csv.writer(f)\n",
        "        writer.writerow(['sample', 'diagnosis', 'predicted_diagnosis'])\n",
        "        for i, p in enumerate(y_pred):\n",
        "            writer.writerow([sample_list[i], test_y[i], int(p)])"
      ]
    }
  ],
  "metadata": {
    "accelerator": "GPU",
    "colab": {
      "collapsed_sections": [],
      "name": "CRC_GCN_Tensorflow.ipynb",
      "provenance": []
    },
    "kernelspec": {
      "display_name": "Python 3",
      "name": "python3"
    },
    "language_info": {
      "name": "python"
    }
  },
  "nbformat": 4,
  "nbformat_minor": 0
}
